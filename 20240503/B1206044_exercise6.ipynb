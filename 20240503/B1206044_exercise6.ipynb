{
  "nbformat": 4,
  "nbformat_minor": 0,
  "metadata": {
    "colab": {
      "provenance": []
    },
    "kernelspec": {
      "name": "python3",
      "display_name": "Python 3"
    },
    "language_info": {
      "name": "python"
    }
  },
  "cells": [
    {
      "cell_type": "code",
      "execution_count": 28,
      "metadata": {
        "colab": {
          "base_uri": "https://localhost:8080/"
        },
        "id": "djwvolts7dW4",
        "outputId": "65ad9d54-5bc4-4625-80ff-75b3d5fc641f"
      },
      "outputs": [
        {
          "output_type": "stream",
          "name": "stdout",
          "text": [
            "請輸入聖誕樹的高度：13\n",
            "            *\n",
            "           ***\n",
            "          *****\n",
            "         *******\n",
            "        *********\n",
            "       ***********\n",
            "      *************\n",
            "     ***************\n",
            "    *****************\n",
            "   *******************\n",
            "  *********************\n",
            " ***********************\n",
            "*************************\n",
            "           ***          \n",
            "           ***          \n",
            "           ***          \n",
            "           ***          \n",
            "           ***          \n"
          ]
        }
      ],
      "source": [
        "def a(height):\n",
        "    tree = \"\"\n",
        "    for i in range(1, height + 1):\n",
        "        tree += \" \" * (height - i) + \"*\" * (2 * i - 1) + \"\\n\"\n",
        "    b = 3\n",
        "    c = 5\n",
        "\n",
        "    for _ in range(c):\n",
        "        tree += \" \" * (height - b+1) + \"*\" * b + \" \" * (height - b)+\"\\n\"\n",
        "    return tree\n",
        "\n",
        "tree_height = int(input(\"請輸入聖誕樹的高度：\"))\n",
        "christmas_tree = a(tree_height)\n",
        "print(christmas_tree, end=\"\")\n"
      ]
    },
    {
      "cell_type": "code",
      "source": [
        "def calculate_bmi(height, weight):\n",
        "    height = float(height) / 100\n",
        "    bmi = float(weight) / (height ** 2)\n",
        "\n",
        "    if bmi < 18.5:\n",
        "        result = \"過輕\"\n",
        "    elif 18.5 <= bmi < 24:\n",
        "        result = \"正常\"\n",
        "    elif 24 <= bmi < 27:\n",
        "        result = \"過重\"\n",
        "    elif 27 <= bmi < 30:\n",
        "        result = \"輕度肥胖\"\n",
        "    elif 30 <= bmi < 35:\n",
        "        result = \"中度肥胖\"\n",
        "    else:\n",
        "        result = \"重度肥胖\"\n",
        "    return bmi, result\n",
        "\n",
        "try:\n",
        "    height_input = input(\"請輸入身高（公分）：\")\n",
        "    weight_input = input(\"請輸入體重（公斤）：\")\n",
        "\n",
        "    if not height_input.isdigit() or not weight_input.isdigit():\n",
        "        print(\"輸入內容錯誤\")\n",
        "    else:\n",
        "        height = float(height_input)\n",
        "        weight = float(weight_input)\n",
        "        bmi, result = calculate_bmi(height, weight)\n",
        "        print(f\"BMI: {bmi:.2f}, 體位結果: {result}\")\n",
        "except:\n",
        "    print(\"輸入內容錯誤\")"
      ],
      "metadata": {
        "id": "Js5cKoFtAgwz",
        "colab": {
          "base_uri": "https://localhost:8080/"
        },
        "outputId": "940ef093-693c-4c68-d98a-9619dfce49a3"
      },
      "execution_count": 30,
      "outputs": [
        {
          "output_type": "stream",
          "name": "stdout",
          "text": [
            "請輸入身高（公分）：180\n",
            "請輸入體重（公斤）：75\n",
            "BMI: 23.15, 體位結果: 正常\n"
          ]
        }
      ]
    }
  ]
}