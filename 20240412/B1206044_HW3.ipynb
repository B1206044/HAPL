{
  "nbformat": 4,
  "nbformat_minor": 0,
  "metadata": {
    "colab": {
      "provenance": []
    },
    "kernelspec": {
      "name": "python3",
      "display_name": "Python 3"
    },
    "language_info": {
      "name": "python"
    }
  },
  "cells": [
    {
      "cell_type": "code",
      "execution_count": 21,
      "metadata": {
        "colab": {
          "base_uri": "https://localhost:8080/"
        },
        "id": "OgQx3ti-DZes",
        "outputId": "dbcd3581-3b22-49c6-c131-e34be745034a"
      },
      "outputs": [
        {
          "output_type": "stream",
          "name": "stdout",
          "text": [
            "請輸入年份2035\n",
            "是平年\n"
          ]
        }
      ],
      "source": [
        "year=int(input(\"請輸入年份\"))\n",
        "\n",
        "if year<1582:\n",
        "  result=year%4==0\n",
        "else:\n",
        "  result=(year%4==0 and year%100!=0)or(year%400==0)\n",
        "if result:\n",
        "    print(\"是閏年\")\n",
        "else:\n",
        "    print(\"是平年\")"
      ]
    }
  ]
}