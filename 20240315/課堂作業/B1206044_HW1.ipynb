{
  "nbformat": 4,
  "nbformat_minor": 0,
  "metadata": {
    "colab": {
      "provenance": []
    },
    "kernelspec": {
      "name": "python3",
      "display_name": "Python 3"
    },
    "language_info": {
      "name": "python"
    }
  },
  "cells": [
    {
      "cell_type": "code",
      "source": [
        "a=(\"I'm a student\")\n",
        "print(a)"
      ],
      "metadata": {
        "colab": {
          "base_uri": "https://localhost:8080/"
        },
        "id": "JNI3DfJsN_oE",
        "outputId": "e4a82120-4ef4-4581-a56f-31d99363d8b5"
      },
      "execution_count": 3,
      "outputs": [
        {
          "output_type": "stream",
          "name": "stdout",
          "text": [
            "I'm a student\n"
          ]
        }
      ]
    },
    {
      "cell_type": "code",
      "source": [
        "A=(x1,y1)=(11,9)\n",
        "B=(x2,y2)=(3,4)\n",
        "distance=((x2-x1)**2+(y2-y1)**2)**0.5\n",
        "print(distance)"
      ],
      "metadata": {
        "colab": {
          "base_uri": "https://localhost:8080/"
        },
        "id": "G2PtnH-T7Bve",
        "outputId": "4e3921c3-41cf-4c87-9ea4-0402fe8c23b9"
      },
      "execution_count": null,
      "outputs": [
        {
          "output_type": "stream",
          "name": "stdout",
          "text": [
            "9.433981132056603\n"
          ]
        }
      ]
    },
    {
      "cell_type": "code",
      "source": [
        "height_cm=a=153\n",
        "a=/100\n",
        "weight_kg=b=50\n",
        "BMI=b/(a)**2\n",
        "print(BMI)"
      ],
      "metadata": {
        "colab": {
          "base_uri": "https://localhost:8080/"
        },
        "id": "c8N8pUzvK7pN",
        "outputId": "1f42e0e9-ba69-41f4-919c-ee7fb1dcdcfc"
      },
      "execution_count": null,
      "outputs": [
        {
          "output_type": "stream",
          "name": "stdout",
          "text": [
            "21.35930624973301\n"
          ]
        }
      ]
    }
  ]
}