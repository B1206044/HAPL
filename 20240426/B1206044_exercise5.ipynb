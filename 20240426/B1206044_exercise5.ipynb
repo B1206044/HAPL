{
  "cells": [
    {
      "cell_type": "code",
      "execution_count": 23,
      "metadata": {
        "colab": {
          "base_uri": "https://localhost:8080/"
        },
        "id": "IW17oqVL2elc",
        "outputId": "b497ccfe-e0b9-4e84-8a2a-7f529216d490"
      },
      "outputs": [
        {
          "output_type": "stream",
          "name": "stdout",
          "text": [
            "1 X 1 = 1   2 X 1 = 2   3 X 1 = 3   4 X 1 = 4   5 X 1 = 5   6 X 1 = 6   7 X 1 = 7   8 X 1 = 8   9 X 1 = 9   \n",
            "1 X 2 = 2   2 X 2 = 4   3 X 2 = 6   4 X 2 = 8   5 X 2 = 10  6 X 2 = 12  7 X 2 = 14  8 X 2 = 16  9 X 2 = 18  \n",
            "1 X 3 = 3   2 X 3 = 6   3 X 3 = 9   4 X 3 = 12  5 X 3 = 15  6 X 3 = 18  7 X 3 = 21  8 X 3 = 24  9 X 3 = 27  \n",
            "1 X 4 = 4   2 X 4 = 8   3 X 4 = 12  4 X 4 = 16  5 X 4 = 20  6 X 4 = 24  7 X 4 = 28  8 X 4 = 32  9 X 4 = 36  \n",
            "1 X 5 = 5   2 X 5 = 10  3 X 5 = 15  4 X 5 = 20  5 X 5 = 25  6 X 5 = 30  7 X 5 = 35  8 X 5 = 40  9 X 5 = 45  \n",
            "1 X 6 = 6   2 X 6 = 12  3 X 6 = 18  4 X 6 = 24  5 X 6 = 30  6 X 6 = 36  7 X 6 = 42  8 X 6 = 48  9 X 6 = 54  \n",
            "1 X 7 = 7   2 X 7 = 14  3 X 7 = 21  4 X 7 = 28  5 X 7 = 35  6 X 7 = 42  7 X 7 = 49  8 X 7 = 56  9 X 7 = 63  \n",
            "1 X 8 = 8   2 X 8 = 16  3 X 8 = 24  4 X 8 = 32  5 X 8 = 40  6 X 8 = 48  7 X 8 = 56  8 X 8 = 64  9 X 8 = 72  \n",
            "1 X 9 = 9   2 X 9 = 18  3 X 9 = 27  4 X 9 = 36  5 X 9 = 45  6 X 9 = 54  7 X 9 = 63  8 X 9 = 72  9 X 9 = 81  \n",
            "\n"
          ]
        }
      ],
      "source": [
        "\n",
        "i=1\n",
        "i = 1\n",
        "while i <= 9:\n",
        "  j = 1\n",
        "  while j <= 9:\n",
        "    print(f\"{j} X {i} = {i*j: <2}\", end=\"  \")\n",
        "    j += 1\n",
        "  print(  )\n",
        "  i += 1\n",
        "i+=1\n",
        "print(  )\n",
        "\n"
      ]
    },
    {
      "cell_type": "code",
      "source": [
        "import random\n",
        "\n",
        "answer = ''.join(random.sample('0123456789', 4))\n",
        "print(\"答案已經產生：\", answer)\n",
        "num=0\n",
        "\n",
        "print(\"輸入四個數字(不重複)\")\n",
        "\n",
        "while True:\n",
        "    guess = input(\"請輸入你的猜測（四位數）：\")\n",
        "\n",
        "    if len(guess) != 4 or not guess.isdigit() or len(set(guess)) != 4:\n",
        "\n",
        "        print(\"輸入數字過多，請輸入四個數字(不重複))\")\n",
        "        continue\n",
        "\n",
        "    a = 0\n",
        "    b = 0\n",
        "\n",
        "    for i in range(4):\n",
        "        if guess[i] == answer[i]:\n",
        "            a += 1\n",
        "        elif guess[i] in answer:\n",
        "            b += 1\n",
        "    num+=1\n",
        "\n",
        "    print(f\"{guess}:{a}A{b}B\")\n",
        "\n",
        "    if a == 4:\n",
        "        print(\"答對了!總共猜了\",num,\"次\")\n",
        "        break\n"
      ],
      "metadata": {
        "colab": {
          "base_uri": "https://localhost:8080/"
        },
        "id": "Ogz9Fhdm-8qT",
        "outputId": "26f0da96-b7d9-42f9-8481-23c52636314b"
      },
      "execution_count": 53,
      "outputs": [
        {
          "output_type": "stream",
          "name": "stdout",
          "text": [
            "答案已經產生： 8136\n",
            "輸入四個數字(不重複)\n",
            "請輸入你的猜測（四位數）：87562\n",
            "輸入數字過多，請輸入四個數字(不重複))\n",
            "請輸入你的猜測（四位數）：8632\n",
            "8632:2A1B\n",
            "請輸入你的猜測（四位數）：8736\n",
            "8736:3A0B\n",
            "請輸入你的猜測（四位數）：8536\n",
            "8536:3A0B\n",
            "請輸入你的猜測（四位數）：8136\n",
            "8136:4A0B\n",
            "答對了!總共猜了 4 次\n"
          ]
        }
      ]
    }
  ],
  "metadata": {
    "colab": {
      "provenance": []
    },
    "kernelspec": {
      "display_name": "Python 3",
      "name": "python3"
    },
    "language_info": {
      "name": "python"
    }
  },
  "nbformat": 4,
  "nbformat_minor": 0
}