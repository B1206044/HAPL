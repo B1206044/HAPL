{
  "nbformat": 4,
  "nbformat_minor": 0,
  "metadata": {
    "colab": {
      "provenance": []
    },
    "kernelspec": {
      "name": "python3",
      "display_name": "Python 3"
    },
    "language_info": {
      "name": "python"
    }
  },
  "cells": [
    {
      "cell_type": "code",
      "execution_count": null,
      "metadata": {
        "colab": {
          "base_uri": "https://localhost:8080/"
        },
        "id": "paRjCVyUuz4i",
        "outputId": "6d101b77-60eb-48fe-ad37-3105bb51373c"
      },
      "outputs": [
        {
          "output_type": "stream",
          "name": "stdout",
          "text": [
            "HELLO WORLD!!\n"
          ]
        }
      ],
      "source": [
        "print('HELLO WORLD!!')"
      ]
    },
    {
      "cell_type": "code",
      "source": [
        "X = 'Hello World'\n",
        "print(X)"
      ],
      "metadata": {
        "colab": {
          "base_uri": "https://localhost:8080/"
        },
        "id": "nkI2gjclwula",
        "outputId": "d11d98b7-c14b-4813-adc7-3d6ee7e12d12"
      },
      "execution_count": null,
      "outputs": [
        {
          "output_type": "stream",
          "name": "stdout",
          "text": [
            "Hello World\n"
          ]
        }
      ]
    }
  ]
}