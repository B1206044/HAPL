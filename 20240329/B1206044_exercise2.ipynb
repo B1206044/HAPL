{
  "nbformat": 4,
  "nbformat_minor": 0,
  "metadata": {
    "colab": {
      "provenance": []
    },
    "kernelspec": {
      "name": "python3",
      "display_name": "Python 3"
    },
    "language_info": {
      "name": "python"
    }
  },
  "cells": [
    {
      "cell_type": "code",
      "execution_count": 21,
      "metadata": {
        "colab": {
          "base_uri": "https://localhost:8080/"
        },
        "id": "EUfXnCsAoRlk",
        "outputId": "ceb09f5d-552b-4646-eac2-c870b157c8c8"
      },
      "outputs": [
        {
          "output_type": "stream",
          "name": "stdout",
          "text": [
            "{'姓名': '賴宏瑋', '性別': '男', '作業分數': [100, 100, 90], '學號': 'M1129020'}\n",
            "96.66666666666667\n"
          ]
        }
      ],
      "source": [
        "a = {'姓名':'賴宏瑋','性別':'男','作業分數':[80,95,100,90]}\n",
        "b = a.setdefault('學號','M1129020')\n",
        "c = a.copy()\n",
        "a['作業分數'][1]=100\n",
        "del a['作業分數'][0]\n",
        "print(a)\n",
        "a['作業分數']\n",
        "total=sum(a['作業分數'])\n",
        "average=total/len(a['作業分數'])\n",
        "print(average)"
      ]
    }
  ]
}